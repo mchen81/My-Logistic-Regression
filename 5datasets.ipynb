{
 "cells": [
  {
   "cell_type": "markdown",
   "id": "6db4b4e9",
   "metadata": {},
   "source": [
    "# Performace in 5 different dataset\n",
    "\n",
    "This note book is to evaluate the performance of my implementation of logistic regression. 5 datasets with different columns and classification will be applied.\n",
    "\n",
    "* 2F_2C.csv : 2 features and 2 classes\n",
    "* 3F_3C.csv : 3 features and 3 classes\n",
    "* 5F_2C.csv : 5 features and 2 classes\n",
    "* 5F_3C.csv : 5 features and 3 classes\n",
    "* 5F_4C.csv : 5 features and 4 classes\n"
   ]
  },
  {
   "cell_type": "code",
   "execution_count": 1,
   "id": "smaller-karaoke",
   "metadata": {},
   "outputs": [],
   "source": [
    "import numpy as np\n",
    "import pandas as pd\n",
    "import matplotlib\n",
    "import matplotlib.pyplot as plt\n",
    "import seaborn as sns; sns.set()\n",
    "\n",
    "from sklearn.model_selection import train_test_split\n",
    "\n",
    "from LogisticRegression import LogisticRegression\n",
    "\n",
    "from sklearn.metrics import explained_variance_score\n",
    "from sklearn.metrics import accuracy_score"
   ]
  },
  {
   "cell_type": "code",
   "execution_count": 2,
   "id": "surprised-qualification",
   "metadata": {},
   "outputs": [],
   "source": [
    "# Helper functions:\n",
    "# split input dataset to train/test \n",
    "def split_data(data):\n",
    "    features = data.iloc[:, :-1]\n",
    "    target = data.iloc[:, -1]\n",
    "    train_x, test_x, train_y, test_y = train_test_split(features, target, test_size=0.2, random_state=1)\n",
    "    return (train_x, test_x, train_y, test_y)\n",
    "\n",
    "# Create my implementation of logistic regression, fit the training data and make a prediction\n",
    "def get_lr_hyp(train_x, test_x, train_y):\n",
    "    lr = LogisticRegression()\n",
    "    lr.fit(train_x, train_y)\n",
    "    return lr.predict(test_x)"
   ]
  },
  {
   "cell_type": "markdown",
   "id": "tribal-twist",
   "metadata": {},
   "source": [
    "## 2F_2C.csv\n"
   ]
  },
  {
   "cell_type": "code",
   "execution_count": 3,
   "id": "functioning-bidder",
   "metadata": {},
   "outputs": [],
   "source": [
    "data_2f2c = pd.read_csv('2F_2C.csv')\n",
    "(train_x, test_x, train_y, test_y) = split_data(data_2f2c)\n",
    "\n",
    "hyp = get_lr_hyp(train_x, test_x, train_y)\n",
    "\n",
    "evs_2f2c = explained_variance_score(test_y, hyp)\n",
    "acc_2f2c = accuracy_score(test_y, hyp)"
   ]
  },
  {
   "cell_type": "markdown",
   "id": "accessory-switzerland",
   "metadata": {},
   "source": [
    "## 3F_3C.csv"
   ]
  },
  {
   "cell_type": "code",
   "execution_count": 4,
   "id": "valuable-petersburg",
   "metadata": {},
   "outputs": [],
   "source": [
    "data_3f3c = pd.read_csv('3F_3C.csv')\n",
    "(train_x, test_x, train_y, test_y) = split_data(data_3f3c)\n",
    "\n",
    "hyp = get_lr_hyp(train_x, test_x, train_y)\n",
    "\n",
    "evs_3f3c = explained_variance_score(test_y, hyp)\n",
    "acc_3f3c = accuracy_score(test_y, hyp)"
   ]
  },
  {
   "cell_type": "markdown",
   "id": "communist-construction",
   "metadata": {},
   "source": [
    "## 5F_2C.csv"
   ]
  },
  {
   "cell_type": "code",
   "execution_count": 5,
   "id": "prostate-stack",
   "metadata": {},
   "outputs": [],
   "source": [
    "data_5f2c = pd.read_csv('5F_2C.csv')\n",
    "(train_x, test_x, train_y, test_y) = split_data(data_5f2c)\n",
    "\n",
    "hyp = get_lr_hyp(train_x, test_x, train_y)\n",
    "\n",
    "evs_5f2c = explained_variance_score(test_y, hyp)\n",
    "acc_5f2c = accuracy_score(test_y, hyp)"
   ]
  },
  {
   "cell_type": "markdown",
   "id": "rental-spring",
   "metadata": {},
   "source": [
    "## 5F_3C.csv"
   ]
  },
  {
   "cell_type": "code",
   "execution_count": 6,
   "id": "requested-validity",
   "metadata": {},
   "outputs": [],
   "source": [
    "data_5f3c = pd.read_csv('5F_3C.csv')\n",
    "(train_x, test_x, train_y, test_y) = split_data(data_5f3c)\n",
    "\n",
    "hyp = get_lr_hyp(train_x, test_x, train_y)\n",
    "\n",
    "evs_5f3c = explained_variance_score(test_y, hyp)\n",
    "acc_5f3c = accuracy_score(test_y, hyp)"
   ]
  },
  {
   "cell_type": "markdown",
   "id": "e5e54230",
   "metadata": {},
   "source": [
    "## 5F_4C.csv"
   ]
  },
  {
   "cell_type": "code",
   "execution_count": 7,
   "id": "ce288b91",
   "metadata": {},
   "outputs": [],
   "source": [
    "data_5f4c = pd.read_csv('5F_4C.csv')\n",
    "(train_x, test_x, train_y, test_y) = split_data(data_5f4c)\n",
    "\n",
    "hyp = get_lr_hyp(train_x, test_x, train_y)\n",
    "\n",
    "evs_5f4c = explained_variance_score(test_y, hyp)\n",
    "acc_5f4c = accuracy_score(test_y, hyp)"
   ]
  },
  {
   "cell_type": "markdown",
   "id": "1666c3e5",
   "metadata": {},
   "source": [
    "# Comparison\n",
    "As the following graph shows, it performs well in terms of accuracy, which means most of the predicted values were correct. Although the explained variance scores are not that remarkable, I believe it's good enough in most cases. However, it's interesting that it got a relatively bad variance score in 5F2C. I thought it will get more accurate results in a 2-class dataset because there are only 2 classes to predict. The potential reason that I got the wrong anticipation is the dataset is hard to predict. In other words, maybe even sklearn's logistic regression cannot get a perfect result. "
   ]
  },
  {
   "cell_type": "code",
   "execution_count": 8,
   "id": "14130d5a",
   "metadata": {},
   "outputs": [
    {
     "data": {
      "image/png": "[encoded data removed]",
      "text/plain": [
       "<Figure size 720x576 with 1 Axes>"
      ]
     },
     "metadata": {},
     "output_type": "display_data"
    }
   ],
   "source": [
    "# round a list of float to 2 digits\n",
    "def round_2(num_list):\n",
    "    return [round(num, 2) for num in num_list]\n",
    "\n",
    "# data to plot\n",
    "labels = ['2F2C', '3F3C', '5F2C', '5F3C', '5F4C']\n",
    "evs = round_2([evs_2f2c, evs_3f3c, evs_5f2c, evs_5f3c, evs_5f4c])\n",
    "acc = round_2([acc_2f2c, acc_3f3c, acc_5f2c, acc_5f3c, acc_5f4c])\n",
    "\n",
    "#round_to_tenths = [round(num, 1) for num in a_list]\n",
    "\n",
    "x = np.arange(len(labels))\n",
    "bar_width = 0.2\n",
    "opacity = 0.8\n",
    "\n",
    "fig, ax = plt.subplots(figsize=(10,8))\n",
    "\n",
    "rects1 = ax.bar(x - bar_width/2, \n",
    "                evs, \n",
    "                bar_width,\n",
    "                alpha=opacity,\n",
    "                color='b',\n",
    "                label='Explained Variance Score')\n",
    "\n",
    "\n",
    "rects2 = ax.bar(x + bar_width/2, \n",
    "                acc, \n",
    "                bar_width,\n",
    "                alpha=opacity,\n",
    "                color='r',\n",
    "                label='Accuracy Score')\n",
    "\n",
    "ax.set_xlabel('Dataset')\n",
    "ax.set_ylabel('Scores')\n",
    "ax.set_title('Scores by 5 different datasets')\n",
    "ax.set_xticks(x)\n",
    "ax.set_xticklabels(labels)\n",
    "ax.legend()\n",
    "\n",
    "ax.bar_label(rects1, padding=3)\n",
    "ax.bar_label(rects2, padding=3)\n",
    "\n",
    "plt.tight_layout()\n",
    "plt.show()"
   ]
  }
 ],
 "metadata": {
  "kernelspec": {
   "display_name": "Python 3",
   "language": "python",
   "name": "python3"
  },
  "language_info": {
   "codemirror_mode": {
    "name": "ipython",
    "version": 3
   },
   "file_extension": ".py",
   "mimetype": "text/x-python",
   "name": "python",
   "nbconvert_exporter": "python",
   "pygments_lexer": "ipython3",
   "version": "3.8.5"
  }
 },
 "nbformat": 4,
 "nbformat_minor": 5
}
