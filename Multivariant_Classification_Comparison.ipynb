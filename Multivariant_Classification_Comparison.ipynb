{
 "cells": [
  {
   "cell_type": "markdown",
   "id": "ab730da2",
   "metadata": {},
   "source": [
    "# Multivariant Classification\n",
    "Besides the binary classification, our logistic regression is also supporting multivariant classification(more than 2 classes). This notebook is to compare its performance with sklearn's in multivariant classification.   \n",
    "\n",
    "\n",
    "The dataset is [Wireless Indoor Localization](https://archive.ics.uci.edu/ml/datasets/Wireless+Indoor+Localization) , which is collected to perform experimentation on how wifi signal strengths can be used to determine one of the indoor locations(4 rooms)."
   ]
  },
  {
   "cell_type": "code",
   "execution_count": 1,
   "id": "2b243422",
   "metadata": {},
   "outputs": [],
   "source": [
    "import pandas as pd\n",
    "df = pd.read_csv('wifi_localization.txt', sep='\\t', header=None)"
   ]
  },
  {
   "cell_type": "markdown",
   "id": "3a7265f6",
   "metadata": {},
   "source": [
    "## Dataset Inspection\n",
    "\n",
    "The following cells are showing the dataset's basic information. The first 7 columns are wifi signal strength observed on smartphones. And the last feature means where the smartphone is in four differernt rooms. "
   ]
  },
  {
   "cell_type": "code",
   "execution_count": 2,
   "id": "9d52098b",
   "metadata": {},
   "outputs": [
    {
     "data": {
      "text/html": [
       "<div>\n",
       "<style scoped>\n",
       "    .dataframe tbody tr th:only-of-type {\n",
       "        vertical-align: middle;\n",
       "    }\n",
       "\n",
       "    .dataframe tbody tr th {\n",
       "        vertical-align: top;\n",
       "    }\n",
       "\n",
       "    .dataframe thead th {\n",
       "        text-align: right;\n",
       "    }\n",
       "</style>\n",
       "<table border=\"1\" class=\"dataframe\">\n",
       "  <thead>\n",
       "    <tr style=\"text-align: right;\">\n",
       "      <th></th>\n",
       "      <th>0</th>\n",
       "      <th>1</th>\n",
       "      <th>2</th>\n",
       "      <th>3</th>\n",
       "      <th>4</th>\n",
       "      <th>5</th>\n",
       "      <th>6</th>\n",
       "      <th>7</th>\n",
       "    </tr>\n",
       "  </thead>\n",
       "  <tbody>\n",
       "    <tr>\n",
       "      <th>0</th>\n",
       "      <td>-64</td>\n",
       "      <td>-56</td>\n",
       "      <td>-61</td>\n",
       "      <td>-66</td>\n",
       "      <td>-71</td>\n",
       "      <td>-82</td>\n",
       "      <td>-81</td>\n",
       "      <td>1</td>\n",
       "    </tr>\n",
       "    <tr>\n",
       "      <th>1</th>\n",
       "      <td>-68</td>\n",
       "      <td>-57</td>\n",
       "      <td>-61</td>\n",
       "      <td>-65</td>\n",
       "      <td>-71</td>\n",
       "      <td>-85</td>\n",
       "      <td>-85</td>\n",
       "      <td>1</td>\n",
       "    </tr>\n",
       "    <tr>\n",
       "      <th>2</th>\n",
       "      <td>-63</td>\n",
       "      <td>-60</td>\n",
       "      <td>-60</td>\n",
       "      <td>-67</td>\n",
       "      <td>-76</td>\n",
       "      <td>-85</td>\n",
       "      <td>-84</td>\n",
       "      <td>1</td>\n",
       "    </tr>\n",
       "    <tr>\n",
       "      <th>3</th>\n",
       "      <td>-61</td>\n",
       "      <td>-60</td>\n",
       "      <td>-68</td>\n",
       "      <td>-62</td>\n",
       "      <td>-77</td>\n",
       "      <td>-90</td>\n",
       "      <td>-80</td>\n",
       "      <td>1</td>\n",
       "    </tr>\n",
       "    <tr>\n",
       "      <th>4</th>\n",
       "      <td>-63</td>\n",
       "      <td>-65</td>\n",
       "      <td>-60</td>\n",
       "      <td>-63</td>\n",
       "      <td>-77</td>\n",
       "      <td>-81</td>\n",
       "      <td>-87</td>\n",
       "      <td>1</td>\n",
       "    </tr>\n",
       "  </tbody>\n",
       "</table>\n",
       "</div>"
      ],
      "text/plain": [
       "    0   1   2   3   4   5   6  7\n",
       "0 -64 -56 -61 -66 -71 -82 -81  1\n",
       "1 -68 -57 -61 -65 -71 -85 -85  1\n",
       "2 -63 -60 -60 -67 -76 -85 -84  1\n",
       "3 -61 -60 -68 -62 -77 -90 -80  1\n",
       "4 -63 -65 -60 -63 -77 -81 -87  1"
      ]
     },
     "execution_count": 2,
     "metadata": {},
     "output_type": "execute_result"
    }
   ],
   "source": [
    "# The dataset has no header\n",
    "df.head()"
   ]
  },
  {
   "cell_type": "markdown",
   "id": "5d3a2b33",
   "metadata": {},
   "source": [
    "### Null value\n",
    "Ther is no null value in this dataset"
   ]
  },
  {
   "cell_type": "code",
   "execution_count": 3,
   "id": "79ea5eac",
   "metadata": {},
   "outputs": [
    {
     "name": "stdout",
     "output_type": "stream",
     "text": [
      "<class 'pandas.core.frame.DataFrame'>\n",
      "RangeIndex: 2000 entries, 0 to 1999\n",
      "Data columns (total 8 columns):\n",
      " #   Column  Non-Null Count  Dtype\n",
      "---  ------  --------------  -----\n",
      " 0   0       2000 non-null   int64\n",
      " 1   1       2000 non-null   int64\n",
      " 2   2       2000 non-null   int64\n",
      " 3   3       2000 non-null   int64\n",
      " 4   4       2000 non-null   int64\n",
      " 5   5       2000 non-null   int64\n",
      " 6   6       2000 non-null   int64\n",
      " 7   7       2000 non-null   int64\n",
      "dtypes: int64(8)\n",
      "memory usage: 125.1 KB\n"
     ]
    }
   ],
   "source": [
    "df.info()"
   ]
  },
  {
   "cell_type": "markdown",
   "id": "738beb85",
   "metadata": {},
   "source": [
    "### Target\n",
    "The last column is the target the trained model is going to predict. Here we can see there are four rooms (classification). "
   ]
  },
  {
   "cell_type": "code",
   "execution_count": 4,
   "id": "39ced2f7",
   "metadata": {},
   "outputs": [
    {
     "data": {
      "text/plain": [
       "1    500\n",
       "2    500\n",
       "3    500\n",
       "4    500\n",
       "Name: 7, dtype: int64"
      ]
     },
     "execution_count": 4,
     "metadata": {},
     "output_type": "execute_result"
    }
   ],
   "source": [
    "df.iloc[:, -1].value_counts()"
   ]
  },
  {
   "cell_type": "markdown",
   "id": "9e12142f",
   "metadata": {},
   "source": [
    "# Pre-Processing\n",
    "\n",
    "\n",
    "### Shuffle\n",
    "There is not too much to do in terms of pre-processing. One thing is this dataset is well ordered by its room feature(from 1 to 4). To make sure the selected data is randomized enough, here I am going to shuffle the dataset twice."
   ]
  },
  {
   "cell_type": "code",
   "execution_count": 5,
   "id": "a035c748",
   "metadata": {},
   "outputs": [],
   "source": [
    "from sklearn.utils import shuffle\n",
    "df = shuffle(shuffle(df))\n",
    "\n",
    "# Split dataset to features and target\n",
    "features = df.iloc[:, :-1]\n",
    "target = df.iloc[:, -1]"
   ]
  },
  {
   "cell_type": "markdown",
   "id": "ee6295f6",
   "metadata": {},
   "source": [
    "### Re-assign labels\n",
    "In this dataset, features are labeled from 1 to 4. However, my implementation can only take the target started from 0. I am going to substract the target column by 1."
   ]
  },
  {
   "cell_type": "code",
   "execution_count": 6,
   "id": "82e97683",
   "metadata": {},
   "outputs": [
    {
     "data": {
      "text/plain": [
       "0    500\n",
       "1    500\n",
       "2    500\n",
       "3    500\n",
       "Name: 7, dtype: int64"
      ]
     },
     "execution_count": 6,
     "metadata": {},
     "output_type": "execute_result"
    }
   ],
   "source": [
    "target = target - 1\n",
    "target.value_counts()"
   ]
  },
  {
   "cell_type": "markdown",
   "id": "8c19c180",
   "metadata": {},
   "source": [
    "### Standardize and Split\n",
    "\n",
    "As we did in the binary classification, it is crucial to standardize the dataset because sklearn also does that. \n",
    "\n",
    "And again, this dataset will be splitted for training(80%) and testing(20%)."
   ]
  },
  {
   "cell_type": "code",
   "execution_count": 7,
   "id": "d0d624e3",
   "metadata": {},
   "outputs": [],
   "source": [
    "from sklearn.model_selection import train_test_split\n",
    "from sklearn.preprocessing import StandardScaler\n",
    "scaler = StandardScaler()\n",
    "features = scaler.fit_transform(features)\n",
    "\n",
    "# Split data to train(80%) and test(20%) \n",
    "train_x, test_x, train_y, test_y = train_test_split(features, target, test_size=0.2, random_state=1)\n",
    "\n",
    "# Because my implementation cannot take array-like features, so here I transform features to dataframe.\n",
    "train_x = pd.DataFrame(train_x)\n",
    "test_x = pd.DataFrame(test_x)"
   ]
  },
  {
   "cell_type": "markdown",
   "id": "f3f74416",
   "metadata": {},
   "source": [
    "# Performace Comparison\n",
    "\n",
    "\n",
    "## My Logistic Regression vs SKlearn's\n",
    "It time to test my version of logistic regression and sklearn's version."
   ]
  },
  {
   "cell_type": "code",
   "execution_count": 8,
   "id": "b3102af8",
   "metadata": {},
   "outputs": [],
   "source": [
    "from LogisticRegression import LogisticRegression as MyLR\n",
    "mylr = MyLR()\n",
    "mylr.fit(train_x, train_y)\n",
    "my_hyp = mylr.predict(test_x)\n",
    "\n",
    "\n",
    "from sklearn.linear_model import LogisticRegression\n",
    "clf = LogisticRegression()\n",
    "clf.fit(train_x, train_y)\n",
    "sk_hyp = clf.predict(test_x)"
   ]
  },
  {
   "cell_type": "markdown",
   "id": "c8980add",
   "metadata": {},
   "source": [
    "### Metrics\n",
    "We will evaluate the explained_variance_score, accuracy_score and confusion_matrix to see the performace between the two versions."
   ]
  },
  {
   "cell_type": "code",
   "execution_count": 9,
   "id": "f61e951a",
   "metadata": {},
   "outputs": [],
   "source": [
    "from sklearn.metrics import explained_variance_score\n",
    "from sklearn.metrics import accuracy_score\n",
    "from sklearn.metrics import confusion_matrix"
   ]
  },
  {
   "cell_type": "code",
   "execution_count": 10,
   "id": "ef7d7d10",
   "metadata": {},
   "outputs": [],
   "source": [
    "my_evs = explained_variance_score(test_y, my_hyp)\n",
    "my_acc = accuracy_score(test_y, my_hyp)\n",
    "my_cm = confusion_matrix(test_y, my_hyp)"
   ]
  },
  {
   "cell_type": "code",
   "execution_count": 11,
   "id": "fc355499",
   "metadata": {},
   "outputs": [],
   "source": [
    "sk_evs = explained_variance_score(test_y, sk_hyp)\n",
    "sk_acc = accuracy_score(test_y, sk_hyp)\n",
    "sk_cm = confusion_matrix(test_y, sk_hyp)"
   ]
  },
  {
   "cell_type": "code",
   "execution_count": 12,
   "id": "fba3ed00",
   "metadata": {},
   "outputs": [
    {
     "name": "stdout",
     "output_type": "stream",
     "text": [
      "My Explained Variance Score: 0.8579520492060504\n",
      "My Accuracy Score: 0.865\n",
      "Comfusion Matrix:\n",
      "[[ 95   0   0   0]\n",
      " [  1 104   1   0]\n",
      " [  5  28  54  18]\n",
      " [  0   0   1  93]]\n"
     ]
    }
   ],
   "source": [
    "print(\"My Explained Variance Score:\", my_evs)\n",
    "print(\"My Accuracy Score:\", my_acc)\n",
    "print(\"Comfusion Matrix:\")\n",
    "print(my_cm)"
   ]
  },
  {
   "cell_type": "code",
   "execution_count": 13,
   "id": "30fa6206",
   "metadata": {},
   "outputs": [
    {
     "name": "stdout",
     "output_type": "stream",
     "text": [
      "Sklearn's Explained Variance Score: 0.977117722128078\n",
      "Sklearn's Accuracy Score: 0.9725\n",
      "Comfusion Matrix:\n",
      "[[ 95   0   0   0]\n",
      " [  0 102   4   0]\n",
      " [  0   2  99   4]\n",
      " [  0   0   1  93]]\n"
     ]
    }
   ],
   "source": [
    "print(\"Sklearn's Explained Variance Score:\", sk_evs)\n",
    "print(\"Sklearn's Accuracy Score:\", sk_acc)\n",
    "print(\"Comfusion Matrix:\")\n",
    "print(sk_cm)"
   ]
  },
  {
   "cell_type": "markdown",
   "id": "89cb0a71",
   "metadata": {},
   "source": [
    "# Conclusion\n",
    "\n",
    "Please see the conclusion in Binary_Classification_Performace_Comparison."
   ]
  }
 ],
 "metadata": {
  "kernelspec": {
   "display_name": "Python 3",
   "language": "python",
   "name": "python3"
  },
  "language_info": {
   "codemirror_mode": {
    "name": "ipython",
    "version": 3
   },
   "file_extension": ".py",
   "mimetype": "text/x-python",
   "name": "python",
   "nbconvert_exporter": "python",
   "pygments_lexer": "ipython3",
   "version": "3.8.5"
  }
 },
 "nbformat": 4,
 "nbformat_minor": 5
}
